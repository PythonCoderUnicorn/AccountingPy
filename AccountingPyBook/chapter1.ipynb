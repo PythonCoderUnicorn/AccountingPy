{
  "cells": [
    {
      "cell_type": "raw",
      "metadata": {},
      "source": [
        "---\n",
        "title: Financial Accounting *\n",
        "execute:\n",
        "  echo: false\n",
        "---"
      ],
      "id": "e2be20ae"
    },
    {
      "cell_type": "markdown",
      "metadata": {},
      "source": [
        "# Financial Accounting\n",
        "\n",
        "Welcome to the series of using Python for Financial Accounting.\n",
        "This series will use the information from _Financial Accounting - Tools for Business Decision Making, 7th Canadian Edition. Wiley._ to form our AccountingPy knowledge. \n",
        "\n",
        "This series will be brief in descriptions and explanations, as the focus in this book is joining your existing accounting knowledge with new Python knowledge. There will be a glossary for terms as a reference. This book ideally should be used with accounting classes as this does not go in depth of concepts, just how to use Python for specific calculations.\n",
        "\n",
        "\n",
        "\n",
        "\n",
        "## The Purpose & Use of Financial Statements\n",
        "\n",
        "Financial Statements provide the means of communicating the economic events of an organization and sharing with a variety of interested users.\n",
        "\n",
        "One important function to calculate is the net income, using Python we can make a function to calculate this so in the future we can simply pass in the data required then get the output.\n",
        "\n",
        "\n",
        "`"
      ],
      "id": "a22fcb4a"
    }
  ],
  "metadata": {
    "kernelspec": {
      "name": "python3",
      "language": "python",
      "display_name": "Python 3"
    }
  },
  "nbformat": 4,
  "nbformat_minor": 5
}