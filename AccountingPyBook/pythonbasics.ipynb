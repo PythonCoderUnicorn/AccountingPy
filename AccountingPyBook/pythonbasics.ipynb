{
  "cells": [
    {
      "cell_type": "markdown",
      "metadata": {},
      "source": [
        "# Python Basics \n",
        "\n",
        "Hello, welcome to the crash course on Python basics! \n",
        "This section will get you very quickly introduced to Python in order for you to follow along with the book. \n",
        "\n",
        "There are numerous Python tutorials that will help you fully understand the programming language. Some resources I personally have found very helpful (general python learning, various topics):\n",
        "\n",
        "- [Real Python tutorials. Very beginner friendly](https://realpython.com/)\n",
        "- [freecodecamp (YouTube, 4.5 hours long) - Python full tutorial](https://www.youtube.com/watch?v=rfscVS0vtbw)\n",
        "- [Tech with Tim (YouTube)](https://www.youtube.com/@TechWithTim)\n",
        "- [Patrick Loeber (YouTube)](https://www.youtube.com/@patloeber)\n",
        "\n",
        "\n",
        "None of the links above deal with accounting but will provide depth in explanations of the code you will see here.\n"
      ],
      "id": "5ad1ff40"
    },
    {
      "cell_type": "code",
      "metadata": {},
      "source": [
        "6+3"
      ],
      "id": "7f356375",
      "execution_count": null,
      "outputs": []
    }
  ],
  "metadata": {
    "kernelspec": {
      "name": "python3",
      "language": "python",
      "display_name": "Python 3"
    }
  },
  "nbformat": 4,
  "nbformat_minor": 5
}