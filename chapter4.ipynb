{
  "cells": [
    {
      "cell_type": "markdown",
      "metadata": {},
      "source": [
        "# Activity Based Costing\n",
        "\n",
        "Companies use Activity Based Costing (ABC) for more accurate data for better decision making.\n",
        "Activity based costing includes:\n",
        "\n",
        "- ABC system: \n",
        "  - identify and classify activities and allocate overhead to cost pools (step 1)\n",
        "  - identify cost drivers (step 2)\n",
        "  - calculate overhead rates (step 3)\n",
        "  - assign overhead costs to products (step 4)\n",
        "  - unit cost comparison\n",
        "\n",
        "\n",
        "## The ABC system\n",
        "\n",
        "The amount of direct labor used in industries has changed with decreased, and the total overhead costs such as: depreciation on equipment, machinery, utilities, repairs and maintenance has increased. \n",
        "The ABC system uses machine hours as foundation for determining overhead costs, but this may not be precise enough for accurate costing for some industries where the manufacturing process is complicated, thus there is _activity based costing_. The ABC is a method for allocating overhead costs for specific activities then assigns these costs to products and services using costing drivers.\n",
        "\n",
        "\n",
        "- `activity` is any event, transaction or work sequence that incurs a cost during production\n",
        "- `activity cost pool`  is a unique activity like ordering materials or machinery setting up\n",
        "- `cost driver` any activity that has a direct cause-effect relationship with resources consumed\n",
        "\n",
        "\n",
        "> If there is no or little correlation between changes in the cost driver and the consumption of the overhead cost, then inaccurate product costs will result\n",
        "\n",
        "### ABC example\n",
        "\n",
        "A company produces two items, item 1 is a high volume item totalling 25,000 units annually.\n",
        "The second item is a low volume item totalling only 5,000 units per year. Each product requires 1 hour \n",
        "of direct labor to complete. Expected annual manufacturing overhead costs are $900,000.\n"
      ],
      "id": "66a67fe1"
    },
    {
      "cell_type": "code",
      "metadata": {},
      "source": [
        "high_vol_item = 25e3\n",
        "low_vol_item = 5e3\n",
        "expect_overhead = 900e3\n",
        "\n",
        "total_annual_direct_labor = high_vol_item + low_vol_item\n",
        "\n",
        "pred_overhead_rate = expect_overhead / total_annual_direct_labor\n",
        "\n",
        "print(\"Total annual direct labor hours = {:,}\".format(total_annual_direct_labor))\n",
        "print(\"Predetermined overhead rate \\n(traditional costing) = ${:,} per labor hr\".format(pred_overhead_rate))"
      ],
      "id": "02d4fafc",
      "execution_count": null,
      "outputs": []
    },
    {
      "cell_type": "markdown",
      "metadata": {},
      "source": [
        "### ABC step 1\n",
        "\n",
        "This example company has three activity cost pools: setting p machine, machining and inspecting.\n",
        "All overhead costs directly associated with machine setting up (salaries, supplies and depreciation) are assigned to machine set-up cost pool.\n",
        "\n",
        "| cost pool         | estimated overhead |\n",
        "|-------------------|--------------------|\n",
        "| machines set up   | $300,000            |\n",
        "| machining         | $500,000            |\n",
        "| inspecting        | $100,000            |\n"
      ],
      "id": "2117f8ff"
    },
    {
      "cell_type": "code",
      "metadata": {},
      "source": [
        "abc_costs = {\n",
        "  'setting_up_machines': 300e3,\n",
        "  'machining': 500e3,\n",
        "  'inspecting': 100e3\n",
        "}\n",
        "\n",
        "# make a list variable that stores the dictionary values\n",
        "dict_list = list( abc_costs.values() )\n",
        "# loop through the dictionary values then sum the values and store in variable s\n",
        "for num in dict_list:\n",
        "  s = sum( dict_list )\n",
        "\n",
        "print(\"Activity cost pool total = $ {:,}\".format(s))"
      ],
      "id": "cdceff88",
      "execution_count": null,
      "outputs": []
    },
    {
      "cell_type": "markdown",
      "metadata": {},
      "source": [
        "### ABC step 2\n",
        "\n",
        "Now the task is to identify the cost drivers for each cost pool. The cost driver must accurately measure\n",
        "the actual consumption of the activity by the various products. To get accurate costing, there needs to be a \n",
        "high degree of correlation between cost driver and consumption of the overhead costs. \n",
        "\n",
        "- `activity cost pool` - Setting up machines, Machining, Inspecting\n",
        "- `cost drivers` - number of machines set up, machine hours, number of inspection\n",
        "- `expected use: cost driver` - 1,500 machine set ups, 50,000 machine hours and 2,000 inpsections\n",
        "\n",
        "### ABC step 3\n",
        "\n",
        "Calculate the `activity based overhead rate` per cost driver by dividing the estimated overhead per activity by the number of cost drivers by the number of cost drivers expected to be used.\n"
      ],
      "id": "0aba1258"
    },
    {
      "cell_type": "code",
      "metadata": {},
      "source": [
        "# make a copy of the abc costs\n",
        "cost_drivers = abc_costs.copy()\n",
        "# add new dictionary keys and values to cost drivers dictionary\n",
        "cost_drivers.update( {'expected_machine_setups': 1500} )\n",
        "cost_drivers.update( {'expected_machine_hours': 50e3} )\n",
        "cost_drivers.update( {'expected_inspections': 2000} )"
      ],
      "id": "86c0407c",
      "execution_count": null,
      "outputs": []
    },
    {
      "cell_type": "markdown",
      "metadata": {},
      "source": [
        "Make a function to calculate the activity based overhead rates.\n"
      ],
      "id": "3dc1bb7f"
    },
    {
      "cell_type": "code",
      "metadata": {},
      "source": [
        "# create a function to calculate the overhead rates\n",
        "def activity_overhead_rates(costing_data: dict):\n",
        "  \n",
        "  overhead_rates_1 = cost_drivers['setting_up_machines'] / cost_drivers['expected_machine_setups']\n",
        "  overhead_rates_2 = cost_drivers['machining'] / cost_drivers['expected_machine_hours']\n",
        "  overhead_rates_3 = cost_drivers['inspecting'] / cost_drivers['expected_inspections']\n",
        "  \n",
        "  print(\"\\n --- Activity Based Overhead Rates --\")\n",
        "  print(\"per machine set up ................... ${:.2f}\".format( overhead_rates_1))\n",
        "  print(\"per machine hours .................... ${:.2f}\".format( overhead_rates_2))\n",
        "  print(\"per machine inpections ............... ${:.2f}\".format( overhead_rates_3))\n",
        "\n",
        "\n",
        "\n",
        "activity_overhead_rates( cost_drivers)"
      ],
      "id": "d9f757a7",
      "execution_count": null,
      "outputs": []
    },
    {
      "cell_type": "markdown",
      "metadata": {},
      "source": [
        "### ABC step 4\n",
        "\n",
        "This step is about assigning overhead costs, necessary to know the overhead cost driver for each product.\n",
        "This example company has two items, one item takes longer for set up and inspections.\n",
        "\n",
        "- expected use of cost driver per product \n",
        "- item 1 = 500, 30,000, 500\n",
        "- item 2 = 1,000, 20,000 and 1,500\n",
        "\n",
        "Update the dictionary\n"
      ],
      "id": "ccd737ed"
    },
    {
      "cell_type": "code",
      "metadata": {},
      "source": [
        "cost_drivers.update({'item_1': {'exp_cost_machine_setups':500, 'exp_cost_machining':30e3, 'exp_cost_inpsecting': 500} })\n",
        "cost_drivers.update( {'item_2': {'exp_cost_machine_setups':1000, 'exp_cost_machining':20e3, 'exp_cost_inpsecting': 1500} })\n",
        "\n",
        "# add the number of units produced, stated in the beginining of section\n",
        "cost_drivers.update({'units_produced_item1': 25e3})\n",
        "cost_drivers.update({'units_produced_item2': 5e3})\n",
        "# cost_drivers"
      ],
      "id": "ca9744c1",
      "execution_count": null,
      "outputs": []
    },
    {
      "cell_type": "markdown",
      "metadata": {},
      "source": [
        "Make a function to calculate the product overhead costs. \n"
      ],
      "id": "82a9cbe6"
    },
    {
      "cell_type": "code",
      "metadata": {},
      "source": [
        "def product_overhead_costs( costing_data: dict ):\n",
        "  # need rate for calculation\n",
        "  overhead_rates_1 = cost_drivers['setting_up_machines'] / cost_drivers['expected_machine_setups'] # $200\n",
        "  overhead_rates_2 = cost_drivers['machining'] / cost_drivers['expected_machine_hours']            # $10\n",
        "  overhead_rates_3 = cost_drivers['inspecting'] / cost_drivers['expected_inspections']             # $50\n",
        "  \n",
        "  # -- item 1\n",
        "  mach_setup_cost_1 = cost_drivers['item_1']['exp_cost_machine_setups'] * overhead_rates_1\n",
        "  machine_cost_1 = cost_drivers['item_1']['exp_cost_machining'] * overhead_rates_2\n",
        "  inspect_cost_1 = cost_drivers['item_1']['exp_cost_inpsecting'] * overhead_rates_3\n",
        "  total_assigned_costs_1 = mach_setup_cost_1 + machine_cost_1 + inspect_cost_1\n",
        "  overhead_cpu_1 = total_assigned_costs_1 / cost_drivers['units_produced_item1']\n",
        "  \n",
        "  #-- item 2\n",
        "  mach_setup_cost_2 = cost_drivers['item_2']['exp_cost_machine_setups'] * overhead_rates_1\n",
        "  machine_cost_2 = cost_drivers['item_2']['exp_cost_machining'] * overhead_rates_2\n",
        "  inspect_cost_2 = cost_drivers['item_2']['exp_cost_inpsecting'] * overhead_rates_3\n",
        "  total_assigned_costs_2 = mach_setup_cost_2 + machine_cost_2 + inspect_cost_2\n",
        "  overhead_cpu_2 = total_assigned_costs_2 / cost_drivers['units_produced_item2']\n",
        "  \n",
        "  \n",
        "  print(\"\\n --- Product Overhead Costs ---\")\n",
        "  print(\"item 1\")\n",
        "  print(\"Cost assigned: machine set up ................... ${:,}\".format(mach_setup_cost_1))\n",
        "  print(\"Cost assigned: machine costs .................... ${:,}\".format(machine_cost_1))\n",
        "  print(\"Cost assigned: machine costs..................... ${:,}\".format(inspect_cost_1))\n",
        "  print(\"Total costs assigned ............................ ${:,}\".format(total_assigned_costs_1))\n",
        "  print(\"Overhead cost per unit .......................... ${:,}\".format(overhead_cpu_1))\n",
        "  print(\"item 2\")\n",
        "  print(\"Cost assigned: machine set up ................... ${:,}\".format(mach_setup_cost_2))\n",
        "  print(\"Cost assigned: machine costs .................... ${:,}\".format(machine_cost_2))\n",
        "  print(\"Cost assigned: machine costs .................... ${:,}\".format(inspect_cost_2))\n",
        "  print(\"Total costs assigned ............................ ${:,}\".format(total_assigned_costs_2))\n",
        "  print(\"Overhead cost per unit .......................... ${:,}\".format(overhead_cpu_2))\n",
        "  \n",
        "  \n",
        "\n",
        "product_overhead_costs( cost_drivers )"
      ],
      "id": "b0444293",
      "execution_count": null,
      "outputs": []
    },
    {
      "cell_type": "markdown",
      "metadata": {},
      "source": [
        "### ABC unit cost comparison\n",
        "\n",
        "Looking at the manufacturing costs for this example company, comparison of unit costs of the two items produced.\n",
        "\n",
        "- direct materials costs = (item 1) 40, (item 2) 30\n",
        "- direct labor costs = 12\n",
        "- overhead = (predetermined overhead rate * 1 hr) 30\n"
      ],
      "id": "1308eb80"
    },
    {
      "cell_type": "code",
      "metadata": {},
      "source": [
        "# -- info from start of section 5.1\n",
        "high_vol_item = 25e3\n",
        "low_vol_item = 5e3\n",
        "expect_overhead = 900e3\n",
        "hours = 1\n",
        "# ------\n",
        "\n",
        "total_annual_direct_labor = high_vol_item + low_vol_item\n",
        "\n",
        "pred_overhead_rate = expect_overhead / total_annual_direct_labor\n",
        "print(\"Predetermined overhead rate = $\",pred_overhead_rate * hours)"
      ],
      "id": "0ed0081b",
      "execution_count": null,
      "outputs": []
    },
    {
      "cell_type": "markdown",
      "metadata": {},
      "source": [
        "Make a manufacturing costs data dictionary to use for unit cost comparisons.\n"
      ],
      "id": "7b5f1268"
    },
    {
      "cell_type": "code",
      "metadata": {},
      "source": [
        "manuf_costs = {\n",
        "  'item_1': {'direct_material': 40, 'direct_labor': 12, 'overhead_rate': 30},\n",
        "  'item_2': {'direct_material': 30, 'direct_labor': 12, 'overhead_rate': 30}\n",
        "}"
      ],
      "id": "53dc8c18",
      "execution_count": null,
      "outputs": []
    },
    {
      "cell_type": "markdown",
      "metadata": {},
      "source": [
        "A function for unit cost comparison between traditional costs and the ABC method.\n",
        "We use the information from [ABC step 4 product cost overhead](###abc-step-4). \n"
      ],
      "id": "2cf54a98"
    },
    {
      "cell_type": "code",
      "metadata": {},
      "source": [
        "def unit_comparison( manufacturing_data: dict,  item_1_cpu: int, item_2_cpu: int):\n",
        "  \n",
        "  # convert the dictionary into a list\n",
        "  m = list( manuf_costs )\n",
        "  # create an empty array to loop through the values and sum them\n",
        "  ml = []\n",
        "  for x in m:\n",
        "    sx = sum( manuf_costs[x].values() )\n",
        "    ml.append(sx)  # append the summed values to the array\n",
        "      \n",
        "  print(\"Tradional costing\")\n",
        "  print(\"\\titem 1 product total unit cost = $\", ml[0])\n",
        "  print(\"\\titem 2 product total unit cost = $\", ml[1])\n",
        "\n",
        "\n",
        "  # item 1 overhead cost per unit\n",
        "  # item_1_cpu = 17\n",
        "  # item_2_cpu = 95\n",
        "    \n",
        "  abc_1 = (manuf_costs['item_1']['direct_material'] + manuf_costs['item_1']['direct_labor'] + item_1_cpu)\n",
        "  abc_2 = (manuf_costs['item_2']['direct_material'] + manuf_costs['item_2']['direct_labor'] + item_2_cpu)\n",
        "    \n",
        "  print(\"ABC method\")\n",
        "  print(\"\\titem 1 product total unit cost = $\", abc_1 )\n",
        "  print(\"\\titem 2 product total unit cost = $\", abc_2)\n",
        "    \n",
        "\n",
        "# ----\n",
        "unit_comparison(manuf_costs, 17, 95)"
      ],
      "id": "6268b992",
      "execution_count": null,
      "outputs": []
    },
    {
      "cell_type": "markdown",
      "metadata": {},
      "source": [
        "By comparing the costing systems, item 1 was over costed (82 vs the 69) and \n",
        "for item 2 the cost was under the more accurate cost of $137.\n",
        "\n",
        "\n",
        "\n",
        "\n",
        "### ABC example\n",
        "\n",
        "In this ABC system example, a company has 7 cost pools and 2 products. \n",
        "The expected units produced are: item 1 = 200,000 units and item 2 = 80,000 units.\n",
        "This company has annual overhead data available for calculations. \n",
        "\n",
        "\n",
        "This example section uses the library [NumPy](https://numpy.org/) to do multiple calculations of \n",
        "array vectors (lists) which you have already used in previous sections. This is new information and is not explained, but the use in this section is simply converting a python list into a NumPy array which allows for mathematical operations. So far the functions have been very simple and one by one calculation and this section does all of the math in one step, much like you would using Excel. Python lists cannot do math operations for what we want to do, so knowing and understanding NumPy is important to know for this section alone _(NumPy is a huge library for various math operations using array vectors, so just see if you can follow along here)_. \n",
        "\n",
        "\n",
        "The company overhead data is stored in a data dictionary. \n"
      ],
      "id": "20e32444"
    },
    {
      "cell_type": "code",
      "metadata": {},
      "source": [
        "overhead_data = {\n",
        "  'activity_cost_pools': ['ordering_receiving','machine_setup', 'machining','assembling','inspecting_testing'],\n",
        "  \n",
        "  'expected_units': {'item_1': 200e3, 'item_2': 80e3},\n",
        "  \n",
        "  'cost_drivers':{\n",
        "    'purchase_orders': 200e3,\n",
        "    'set_up': 600e3,\n",
        "    'machine_hours': 2e6,\n",
        "    'parts': 1.8e6,\n",
        "    'tests': 700e3\n",
        "    },\n",
        "    \n",
        "    'expected_use_cost_drivers': {\n",
        "      'orders': 2500,\n",
        "      'set_ups': 1200,\n",
        "      'hours': 800e3,\n",
        "      'parts': 3e6,\n",
        "      'tests': 35e3\n",
        "      },\n",
        "      \n",
        "     'exp_use_item_1': {\n",
        "      'orders': 1000,\n",
        "      'set_ups': 500,\n",
        "      'hours': 300e3,\n",
        "      'parts': 1.8e6,\n",
        "      'tests': 20e3\n",
        "      },\n",
        "      \n",
        "      'exp_use_item_2': {\n",
        "      'orders': 1500,\n",
        "      'set_ups': 700,\n",
        "      'hours': 500e3,\n",
        "      'parts': 1.2e6,\n",
        "      'tests': 15e3\n",
        "      }\n",
        "}"
      ],
      "id": "974d9a85",
      "execution_count": null,
      "outputs": []
    },
    {
      "cell_type": "markdown",
      "metadata": {},
      "source": [
        "A function that does all of the ABC steps in one step, including the unit cost comparison between the items. The library NumPy comes installed with the Anaconda download and is also easily installed in the terminal. Import NumPy inside the function as outside of the function it will not be accessible (function scope). This function takes the data dictionary as a function argument and prints out the calculations.\n"
      ],
      "id": "693604a2"
    },
    {
      "cell_type": "code",
      "metadata": {},
      "source": [
        "def abc_method( costing_data: dict ):\n",
        "  # import the NumPy library in order to do math of arrays \n",
        "  import numpy as np\n",
        "  \n",
        "  print(\"--- ABC method ---\")\n",
        "  \n",
        "  # sum the values in the cost drivers\n",
        "  total_estimated_overhead = sum( overhead_data['cost_drivers'].values() )\n",
        "  print(\"Total activity costs, estimated overhead = ${:,}\".format(total_estimated_overhead))\n",
        "  \n",
        "  # convert the dictionary values into a list\n",
        "  estimated_overhead = list( overhead_data['cost_drivers'].values() )\n",
        "  exp_use_cost_drivers = list( overhead_data['expected_use_cost_drivers'].values() )\n",
        "  \n",
        "  # ---- convert the python lists into NumPy arrays, needed for calculations\n",
        "  act_overhead_rates = np.array(estimated_overhead) / np.array(exp_use_cost_drivers)\n",
        "  \n",
        "  print(\"\\nActivity based overhead rates\")\n",
        "  \n",
        "  # loop through the NumPy array and print it\n",
        "  for x in range(len(act_overhead_rates)):\n",
        "    print(\".\"*5,'$', act_overhead_rates[x], \" per \",overhead_data['activity_cost_pools'][x] )\n",
        "  \n",
        "  # convert list into a NumPy array from the list conversion of data dictionary values\n",
        "  item_1_exp_cost_driver = np.array( list( overhead_data['exp_use_item_1'].values() ) )\n",
        "  item_1_costs_assigned = item_1_exp_cost_driver * act_overhead_rates\n",
        "\n",
        "  print(\"\\nitem 1\")\n",
        "  # convert the costs assigned into a list\n",
        "  # using range from 0 to the length of the array\n",
        "  item1_costs_assigned = list( range(len(item_1_costs_assigned)) )\n",
        "  cost_list = [] # create empty array to store values\n",
        "  \n",
        "  for x in  item1_costs_assigned:\n",
        "    cost_items_1 = item_1_costs_assigned[x]\n",
        "    print(\"Cost assigned\",'${:,}'.format( cost_items_1,\" per unit\" ) )\n",
        "    cost_list.append(cost_items_1) # add each looped item to array to be summed\n",
        " \n",
        "  total_assigned_costs = sum(cost_list )\n",
        "  print(\"Total assigned costs = ${:,}\".format(total_assigned_costs))\n",
        "\n",
        "  #-- repeat same process for second item\n",
        "\n",
        "  item_2_exp_cost_driver = np.array( list( overhead_data['exp_use_item_2'].values() ) )\n",
        "  item_2_costs_assigned = item_2_exp_cost_driver * act_overhead_rates\n",
        "  print(\"\\nitem 2\")\n",
        "  item1_costs_assigned = list( range(len(item_2_costs_assigned)) )\n",
        "  cost_list_2 = []\n",
        "  for x in  item1_costs_assigned:\n",
        "    cost_items_2 = item_2_costs_assigned[x]\n",
        "    print(\"Cost assigned\",'${:,}'.format( cost_items_2,\" per unit\" ) )\n",
        "    cost_list_2.append(cost_items_2)\n",
        "   \n",
        "  total_assigned_costs_2 = sum(cost_list_2 )\n",
        "  print(\"Total assigned costs = ${:,}\".format(total_assigned_costs_2))\n",
        "\n",
        "  \n",
        "  item1_overhead_cpu =   total_assigned_costs / overhead_data['expected_units']['item_1']\n",
        "  item2_overhead_cpu = total_assigned_costs_2 / overhead_data['expected_units']['item_2']\n",
        "  \n",
        "  print(\"\\nOverhead cost per unit (item 1) = ${:,}\".format(item1_overhead_cpu))\n",
        "  print(\"Overhead cost per unit (item 2) = ${:,}\".format(item2_overhead_cpu))"
      ],
      "id": "004926c5",
      "execution_count": null,
      "outputs": []
    },
    {
      "cell_type": "markdown",
      "metadata": {},
      "source": [
        "Call the function\n"
      ],
      "id": "f4e371e7"
    },
    {
      "cell_type": "code",
      "metadata": {},
      "source": [
        "abc_method( overhead_data )"
      ],
      "id": "069ca0e1",
      "execution_count": null,
      "outputs": []
    },
    {
      "cell_type": "markdown",
      "metadata": {},
      "source": [
        "As mentioned before, building functions does take some time and effort, but once you have it, you can use it again and again. \n"
      ],
      "id": "937d0a53"
    },
    {
      "cell_type": "markdown",
      "metadata": {},
      "source": [
        "---\n"
      ],
      "id": "7d677b7c"
    }
  ],
  "metadata": {
    "kernelspec": {
      "name": "python3",
      "language": "python",
      "display_name": "Python 3"
    }
  },
  "nbformat": 4,
  "nbformat_minor": 5
}